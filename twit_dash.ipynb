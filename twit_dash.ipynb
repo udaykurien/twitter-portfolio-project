{
 "cells": [
  {
   "cell_type": "code",
   "execution_count": 1,
   "metadata": {},
   "outputs": [
    {
     "name": "stdout",
     "output_type": "stream",
     "text": [
      "Dash is running on http://127.0.0.1:8050/\n",
      "\n",
      " * Serving Flask app '__main__'\n",
      " * Debug mode: off\n"
     ]
    },
    {
     "name": "stderr",
     "output_type": "stream",
     "text": [
      "/tmp/ipykernel_74016/3845477491.py:4: UserWarning: \n",
      "The dash_html_components package is deprecated. Please replace\n",
      "`import dash_html_components as html` with `from dash import html`\n",
      "  import dash_html_components as html\n",
      "/tmp/ipykernel_74016/3845477491.py:5: UserWarning: \n",
      "The dash_core_components package is deprecated. Please replace\n",
      "`import dash_core_components as dcc` with `from dash import dcc`\n",
      "  import dash_core_components as dcc\n",
      "\u001b[31m\u001b[1mWARNING: This is a development server. Do not use it in a production deployment. Use a production WSGI server instead.\u001b[0m\n",
      " * Running on http://127.0.0.1:8050\n",
      "\u001b[33mPress CTRL+C to quit\u001b[0m\n",
      "127.0.0.1 - - [09/Sep/2022 15:53:40] \"GET / HTTP/1.1\" 200 -\n",
      "127.0.0.1 - - [09/Sep/2022 15:53:40] \"\u001b[36mGET /assets/main.css?m=1662742865.1896982 HTTP/1.1\u001b[0m\" 304 -\n",
      "127.0.0.1 - - [09/Sep/2022 15:53:40] \"GET /_dash-layout HTTP/1.1\" 200 -\n",
      "127.0.0.1 - - [09/Sep/2022 15:53:40] \"GET /_dash-dependencies HTTP/1.1\" 200 -\n",
      "127.0.0.1 - - [09/Sep/2022 15:53:40] \"\u001b[36mGET /_dash-component-suites/dash/dcc/async-graph.js HTTP/1.1\u001b[0m\" 304 -\n",
      "127.0.0.1 - - [09/Sep/2022 15:53:40] \"\u001b[36mGET /_dash-component-suites/dash/dcc/async-plotlyjs.js HTTP/1.1\u001b[0m\" 304 -\n"
     ]
    }
   ],
   "source": [
    "import pandas as pd\n",
    "import plotly.express as px\n",
    "import dash\n",
    "import dash_html_components as html\n",
    "import dash_core_components as dcc\n",
    "from dash.dependencies import Input, Output\n",
    "\n",
    "twitter_data_file = '/home/nuclear/Stuff/PythonPrograms/Twitter-Portfolio-Project/data/roe-wade-10000-original-sentiment-added.json'\n",
    "\n",
    "twitter_data = pd.read_json(twitter_data_file)\n",
    "\n",
    "figure_parans = {\n",
    "                'layout':{\n",
    "                    'plot_bgcolor':'#1e1e1e',\n",
    "                    'paper_bgcolor':'#1e1e1e'\n",
    "                },\n",
    "                'font':{\n",
    "                    'color':'white'\n",
    "                }\n",
    "            }\n",
    "\n",
    "app = dash.Dash()\n",
    "\n",
    "app.layout = html.Div(\n",
    "    children = [\n",
    "        html.Div(\n",
    "            children = [\n",
    "                html.H1(\n",
    "                    'Twitter response to Roe v Wade', \n",
    "                style={'textAlign':'center', 'color':'#7FDBFF','font-size':30,'margin-bottom':100, 'margin-top':-10,'margin-right':-10,'margin-left':-5,'background-color':'#3a3a3a'}\n",
    "                ),\n",
    "                html.Br(),\n",
    "                html.Br()\n",
    "            ]\n",
    "        ),\n",
    "        html.Div(\n",
    "            children = [\n",
    "                html.Div(dcc.Graph(\n",
    "                    id='negaitve_tweets',\n",
    "                    figure = {\n",
    "                        'layout':{\n",
    "                            'plot_bgcolor':'#1e1e1e',\n",
    "                            'paper_bgcolor':'#1e1e1e'\n",
    "                        },\n",
    "                        'font':{\n",
    "                            'color':'white'\n",
    "                        },\n",
    "                    }\n",
    "                    )),\n",
    "                html.Div(dcc.Graph(id='positive_tweets',figure={**figure_parans})),\n",
    "            ],\n",
    "            style={'display':'flex','background-plot':'black','align':'center'}\n",
    "        ),\n",
    "        html.Div(\n",
    "            [\n",
    "                html.Div(dcc.Graph(id='neutral_tweets',figure={**figure_parans})),\n",
    "                html.Div(dcc.Graph(id='tweet_sent_comparison',figure={**figure_parans}))\n",
    "            ],\n",
    "            style={'display':'flex'}\n",
    "        )\n",
    "    ],\n",
    "     style={'background-color':'#1e1e1e'}\n",
    ")\n",
    "\n",
    "if __name__ == '__main__':\n",
    "    app.run_server()\n"
   ]
  }
 ],
 "metadata": {
  "kernelspec": {
   "display_name": "Python 3.10.4 ('All-Purpose')",
   "language": "python",
   "name": "python3"
  },
  "language_info": {
   "codemirror_mode": {
    "name": "ipython",
    "version": 3
   },
   "file_extension": ".py",
   "mimetype": "text/x-python",
   "name": "python",
   "nbconvert_exporter": "python",
   "pygments_lexer": "ipython3",
   "version": "3.10.4"
  },
  "orig_nbformat": 4,
  "vscode": {
   "interpreter": {
    "hash": "ec8acddf49f87ad423b15485d821fa5c5e9d9c67dcc4da4e8983e6a756b4d42b"
   }
  }
 },
 "nbformat": 4,
 "nbformat_minor": 2
}
